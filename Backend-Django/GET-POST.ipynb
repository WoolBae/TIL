{
 "cells": [
  {
   "cell_type": "markdown",
   "metadata": {},
   "source": [
    "# GET 과 POST의 차이"
   ]
  },
  {
   "cell_type": "markdown",
   "metadata": {},
   "source": [
    "### GET"
   ]
  },
  {
   "cell_type": "markdown",
   "metadata": {},
   "source": [
    "- POST와 같이 Form태그를 사용해서 전송하거나 주소창에 직접 입력해도 전송이가능\n",
    "\n",
    "- 하지만 Form 태그에서의 get방식은 서버로 전송 시 서버의 처리가 지연될 경우, 중복해서 요청이 이루어지는 문제가 있음으로 사용하지 않음\n",
    "\n",
    "- get방식은 전송 할 데이터를 문자열 형태로 url뒤에 인수로 붙여서 전송하므로 누구나 전송 내용을 볼 수 있기때문에 보안성이 없음\n",
    "\n",
    "- url뒤에 문자열 형태로 첨부되기 때문에 길이가 제한됨 : 전송 할 데이터의 용량이 작은 경우에 사용\n",
    "\n",
    "\n",
    "\n"
   ]
  },
  {
   "cell_type": "markdown",
   "metadata": {},
   "source": [
    "### POST"
   ]
  },
  {
   "cell_type": "markdown",
   "metadata": {},
   "source": [
    "- Form태그에서 action을 통해 데이터를 전송\n",
    "- post 방식은 파일의 형태로 전송됨으로 url상에 나타나지 않아 보안성이 있음\n",
    "- Id나 password같은 중요헌 정보를 전송할 때 사용\n",
    "- URL 상에 나타나지 않기 때문에 get방식에 비해 대용량의 데이터를 전송할 수 있음"
   ]
  },
  {
   "cell_type": "markdown",
   "metadata": {},
   "source": [
    "### POST로 온 데이터 Django DB에 저장 예시"
   ]
  },
  {
   "cell_type": "code",
   "execution_count": null,
   "metadata": {
    "collapsed": true
   },
   "outputs": [],
   "source": [
    "def signup(request):\n",
    "    if request.method == \"POST\":\n",
    "        form =SignupForm(request.POST)\n",
    "        if form.is_valid():\n",
    "            user = form.save()"
   ]
  }
 ],
 "metadata": {
  "kernelspec": {
   "display_name": "Python 3",
   "language": "python",
   "name": "python3"
  },
  "language_info": {
   "codemirror_mode": {
    "name": "ipython",
    "version": 3
   },
   "file_extension": ".py",
   "mimetype": "text/x-python",
   "name": "python",
   "nbconvert_exporter": "python",
   "pygments_lexer": "ipython3",
   "version": "3.6.3"
  }
 },
 "nbformat": 4,
 "nbformat_minor": 2
}
